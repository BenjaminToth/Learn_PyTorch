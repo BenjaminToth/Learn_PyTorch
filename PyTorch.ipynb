{
  "nbformat": 4,
  "nbformat_minor": 0,
  "metadata": {
    "colab": {
      "provenance": [],
      "authorship_tag": "ABX9TyPx1Rf2g5WZgxm2aiwxVPgM",
      "include_colab_link": true
    },
    "kernelspec": {
      "name": "python3",
      "display_name": "Python 3"
    },
    "language_info": {
      "name": "python"
    }
  },
  "cells": [
    {
      "cell_type": "markdown",
      "metadata": {
        "id": "view-in-github",
        "colab_type": "text"
      },
      "source": [
        "<a href=\"https://colab.research.google.com/github/BenjaminToth/Learn_PyTorch/blob/main/PyTorch.ipynb\" target=\"_parent\"><img src=\"https://colab.research.google.com/assets/colab-badge.svg\" alt=\"Open In Colab\"/></a>"
      ]
    },
    {
      "cell_type": "code",
      "execution_count": null,
      "metadata": {
        "id": "bZwqCqZhab_s"
      },
      "outputs": [],
      "source": [
        "#hello "
      ]
    },
    {
      "cell_type": "code",
      "source": [
        "import torch\n",
        "import pandas as pd\n",
        "import numpy as np\n",
        "import matplotlib.pyplot as plt"
      ],
      "metadata": {
        "id": "5T-vn_nGb5zC"
      },
      "execution_count": null,
      "outputs": []
    },
    {
      "cell_type": "markdown",
      "source": [
        "# **Intro:**"
      ],
      "metadata": {
        "id": "clpBDekwnKGa"
      }
    },
    {
      "cell_type": "markdown",
      "source": [
        "*Tensor:*"
      ],
      "metadata": {
        "id": "MbUR1XcUk0G8"
      }
    },
    {
      "cell_type": "code",
      "source": [
        "scalar = torch.tensor(7)\n",
        "vector = torch.tensor([7,7])\n",
        "matrix = torch.tensor([[1,2],[3,4]])\n",
        "\n",
        "print(scalar)\n",
        "print(scalar.ndim)\n",
        "print(vector)\n",
        "print(vector.ndim)\n",
        "print(matrix)\n",
        "print(matrix.ndim)"
      ],
      "metadata": {
        "id": "zPJQxBJUgzAu"
      },
      "execution_count": null,
      "outputs": []
    },
    {
      "cell_type": "code",
      "source": [
        "# scalar to number\n",
        "scalar.item()"
      ],
      "metadata": {
        "id": "ICQ4LWFsiRjw"
      },
      "execution_count": null,
      "outputs": []
    },
    {
      "cell_type": "markdown",
      "source": [
        "*Random Tensor:*"
      ],
      "metadata": {
        "id": "_GAcMA6ZkIsK"
      }
    },
    {
      "cell_type": "code",
      "source": [
        "R1 = torch.rand(3,2) \n",
        "R2 = torch.rand(2,3,2) \n",
        "\n",
        "print(R1,\"\\n\")\n",
        "print(R2)"
      ],
      "metadata": {
        "id": "bvLSyhy8kG2K"
      },
      "execution_count": null,
      "outputs": []
    },
    {
      "cell_type": "code",
      "source": [
        "random_image_tensor = torch.rand(size=(28,28,3)) # height, width, color chanels\n",
        "random_image_tensor"
      ],
      "metadata": {
        "id": "aUpQ4UBblVrJ"
      },
      "execution_count": null,
      "outputs": []
    },
    {
      "cell_type": "code",
      "source": [
        "random_seed = 42\n",
        "torch.manual_seed(random_seed)\n",
        "tensor = torch.rand(3,2) \n",
        "print(tensor)"
      ],
      "metadata": {
        "id": "h8jhp7EpAQe3"
      },
      "execution_count": null,
      "outputs": []
    },
    {
      "cell_type": "markdown",
      "source": [
        "*Ones & Zeros:*"
      ],
      "metadata": {
        "id": "GHkJS-5ZmgDA"
      }
    },
    {
      "cell_type": "code",
      "source": [
        "zero = torch.zeros(size=(2,3))\n",
        "zero\n",
        "#works with ones..."
      ],
      "metadata": {
        "colab": {
          "base_uri": "https://localhost:8080/"
        },
        "id": "LFp7jgZkmfb9",
        "outputId": "c0f3137d-5215-4934-8a86-a72540de60a5"
      },
      "execution_count": 34,
      "outputs": [
        {
          "output_type": "execute_result",
          "data": {
            "text/plain": [
              "tensor([[0., 0., 0.],\n",
              "        [0., 0., 0.]])"
            ]
          },
          "metadata": {},
          "execution_count": 34
        }
      ]
    },
    {
      "cell_type": "code",
      "source": [
        "like = torch.rand_like(input=zero)\n",
        "like"
      ],
      "metadata": {
        "id": "rmuRrQmUnHw-"
      },
      "execution_count": null,
      "outputs": []
    },
    {
      "cell_type": "markdown",
      "source": [
        "*Műveletek:*"
      ],
      "metadata": {
        "id": "rFF3e56uqxi8"
      }
    },
    {
      "cell_type": "code",
      "source": [
        "tensor = torch.tensor([1,2,3])\n",
        "# +\n",
        "print(tensor + 10)\n",
        "print(torch.add(tensor,10))\n",
        "# *\n",
        "print(tensor * 10)\n",
        "print(torch.mul(tensor,10))\n",
        "\n",
        "tensor1 = torch.tensor([[1,2],[3,4]])\n",
        "tensor2 = torch.tensor([[4,3],[2,1]])\n",
        "\n",
        "# * element wise\n",
        "print(tensor1 * tensor2)\n",
        "\n",
        "# matrix mul.\n",
        "print(torch.matmul(tensor1,tensor2))"
      ],
      "metadata": {
        "id": "dLE0zrEJq9Ws"
      },
      "execution_count": null,
      "outputs": []
    },
    {
      "cell_type": "markdown",
      "source": [
        "*Transponálás:*"
      ],
      "metadata": {
        "id": "XCznXQqz3ibB"
      }
    },
    {
      "cell_type": "code",
      "source": [
        "tensor = torch.tensor([[1,2],[3,4],[5,6]])\n",
        "print(tensor)\n",
        "print(tensor.T)"
      ],
      "metadata": {
        "id": "fNNaw1AL3hqW"
      },
      "execution_count": null,
      "outputs": []
    },
    {
      "cell_type": "markdown",
      "source": [
        "*Lekérdezések:*\n"
      ],
      "metadata": {
        "id": "A5IoLGLH4fm8"
      }
    },
    {
      "cell_type": "code",
      "source": [
        "tensor = torch.tensor([[1,2],[3,4],[5,6]])\n",
        "\n",
        "#min and max\n",
        "print(tensor.min())\n",
        "print(torch.max(tensor))\n",
        "\n",
        "#mean (FONTOS: kell neki a megfelelo type...)\n",
        "print(torch.mean(tensor.type(torch.float32)))\n",
        "\n",
        "#Szumma\n",
        "print(torch.sum(tensor))\n",
        "print(tensor.sum())\n",
        "\n",
        "#min and max position\n",
        "print(tensor.argmin())\n",
        "print(tensor.argmax())"
      ],
      "metadata": {
        "id": "rcB0SLKs4k9W"
      },
      "execution_count": null,
      "outputs": []
    },
    {
      "cell_type": "markdown",
      "source": [
        "*Squeez:*"
      ],
      "metadata": {
        "id": "GwcgVtH57fTD"
      }
    },
    {
      "cell_type": "code",
      "source": [
        "x = torch.zeros(2, 1, 2, 1, 2)\n",
        "print(x.size())\n",
        "\n",
        "y = torch.squeeze(x)\n",
        "print(y.size())\n",
        "\n",
        "y = torch.squeeze(x, 0)\n",
        "print(y.size())\n",
        "\n",
        "y = torch.squeeze(x, 1)\n",
        "print(y.size())"
      ],
      "metadata": {
        "id": "ey8Kvsax7iMK"
      },
      "execution_count": null,
      "outputs": []
    },
    {
      "cell_type": "markdown",
      "source": [
        "*Permutálás:*"
      ],
      "metadata": {
        "id": "oVXLjYSG8lFM"
      }
    },
    {
      "cell_type": "code",
      "source": [
        "x = torch.randn(2, 3, 5)\n",
        "print(x.size())\n",
        "print(torch.permute(x, (2, 0, 1)).size())"
      ],
      "metadata": {
        "id": "bj2Q-PRK8anJ"
      },
      "execution_count": null,
      "outputs": []
    }
  ]
}